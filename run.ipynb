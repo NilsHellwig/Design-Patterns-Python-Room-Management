{
 "cells": [
  {
   "cell_type": "code",
   "execution_count": 1,
   "metadata": {},
   "outputs": [],
   "source": [
    "from BuildingDatabaseManager import BuildingDatabaseManager\n",
    "from AuthenticationStrategy import LoginAccountStrategy, LoginAccountStrategyTwoFactor"
   ]
  },
  {
   "cell_type": "code",
   "execution_count": 2,
   "metadata": {},
   "outputs": [
    {
     "data": {
      "text/plain": [
       "True"
      ]
     },
     "execution_count": 2,
     "metadata": {},
     "output_type": "execute_result"
    }
   ],
   "source": [
    "building_database_manager = BuildingDatabaseManager(LoginAccountStrategy())\n",
    "building_database_manager.authenticate(\"abc12345\", \"12345678\")"
   ]
  },
  {
   "cell_type": "markdown",
   "metadata": {},
   "source": [
    "Let's create a building"
   ]
  },
  {
   "cell_type": "code",
   "execution_count": 3,
   "metadata": {},
   "outputs": [],
   "source": [
    "building_database_manager.create_part(part_type=\"building\", id=\"B-1\", faculty=\"Computer Science\")"
   ]
  },
  {
   "cell_type": "markdown",
   "metadata": {},
   "source": [
    "Show me all parts of one type"
   ]
  },
  {
   "cell_type": "code",
   "execution_count": 4,
   "metadata": {},
   "outputs": [
    {
     "data": {
      "text/plain": [
       "[{'id': 'B-1', 'problems': [], 'faculty': 'Computer Science'}]"
      ]
     },
     "execution_count": 4,
     "metadata": {},
     "output_type": "execute_result"
    }
   ],
   "source": [
    "building_database_manager.get_all_part_data(\"building\", as_json=True)"
   ]
  },
  {
   "cell_type": "markdown",
   "metadata": {},
   "source": [
    "We can also create other parts. For example a BuildingPart (see all possible parts in  `Parts.py`)"
   ]
  },
  {
   "cell_type": "code",
   "execution_count": 5,
   "metadata": {},
   "outputs": [],
   "source": [
    "building_database_manager.create_part(part_type=\"building_part\", id=\"BP-1\", building_id=\"B-1\", faculty=\"Computer Science\")"
   ]
  },
  {
   "cell_type": "markdown",
   "metadata": {},
   "source": [
    "Let's report a problem..."
   ]
  },
  {
   "cell_type": "code",
   "execution_count": 6,
   "metadata": {},
   "outputs": [],
   "source": [
    "problem_id = building_database_manager.report_problem(part_type=\"building\", id=\"B-1\", problem_text=\"Tür defekt\")[\"problem_id\"]"
   ]
  },
  {
   "cell_type": "code",
   "execution_count": 7,
   "metadata": {},
   "outputs": [
    {
     "data": {
      "text/plain": [
       "{'problem_id': 'cf1438a0-4a37-436d-8a35-8079f5449762',\n",
       " 'problem_text': 'Tür defekt',\n",
       " 'reporting_date': '07.12.2022 19:31:31',\n",
       " 'last_change': '07.12.2022 19:31:31',\n",
       " 'rz_username_reporter': 'abc12345',\n",
       " 'problem_state': 'gemeldet'}"
      ]
     },
     "execution_count": 7,
     "metadata": {},
     "output_type": "execute_result"
    }
   ],
   "source": [
    "building_database_manager.get_problem(part_type=\"building\", id=\"B-1\", problem_id=problem_id)"
   ]
  },
  {
   "cell_type": "code",
   "execution_count": 8,
   "metadata": {},
   "outputs": [
    {
     "data": {
      "text/plain": [
       "{'problem_id': 'cf1438a0-4a37-436d-8a35-8079f5449762',\n",
       " 'problem_text': 'Tür defekt',\n",
       " 'reporting_date': '07.12.2022 19:31:31',\n",
       " 'last_change': '07.12.2022 19:31:31',\n",
       " 'rz_username_reporter': 'abc12345',\n",
       " 'problem_state': 'in Bearbeitung'}"
      ]
     },
     "execution_count": 8,
     "metadata": {},
     "output_type": "execute_result"
    }
   ],
   "source": [
    "building_database_manager.set_problem_state(part_type=\"building\", id=\"B-1\", problem_id=problem_id, new_state=\"in Bearbeitung\")\n"
   ]
  },
  {
   "cell_type": "code",
   "execution_count": 9,
   "metadata": {},
   "outputs": [
    {
     "data": {
      "text/plain": [
       "[{'problem_id': 'cf1438a0-4a37-436d-8a35-8079f5449762',\n",
       "  'problem_text': 'Tür defekt',\n",
       "  'reporting_date': '07.12.2022 19:31:31',\n",
       "  'last_change': '07.12.2022 19:31:31',\n",
       "  'rz_username_reporter': 'abc12345',\n",
       "  'problem_state': 'in Bearbeitung'},\n",
       " {'problem_id': 'c32a5a4e-c8fa-446d-882a-0b0a39c2875d',\n",
       "  'problem_text': 'Drucker defekt',\n",
       "  'reporting_date': '07.12.2022 19:31:31',\n",
       "  'last_change': '07.12.2022 19:31:31',\n",
       "  'rz_username_reporter': 'abc12345',\n",
       "  'problem_state': 'gemeldet'}]"
      ]
     },
     "execution_count": 9,
     "metadata": {},
     "output_type": "execute_result"
    }
   ],
   "source": [
    "building_database_manager.report_problem(part_type=\"building\", id=\"B-1\", problem_text=\"Drucker defekt\") # report another problem\n",
    "building_database_manager.get_all_problems(part_type=\"building\", id=\"B-1\") # view all problems now"
   ]
  },
  {
   "cell_type": "markdown",
   "metadata": {},
   "source": [
    "You can also use another Authentication Method (Strategy Pattern)"
   ]
  },
  {
   "cell_type": "code",
   "execution_count": 10,
   "metadata": {},
   "outputs": [
    {
     "name": "stdout",
     "output_type": "stream",
     "text": [
      "Please enter the code you received by mail:  1234\n"
     ]
    },
    {
     "name": "stdout",
     "output_type": "stream",
     "text": [
      "You have successfully registered.\n"
     ]
    },
    {
     "data": {
      "text/plain": [
       "True"
      ]
     },
     "execution_count": 10,
     "metadata": {},
     "output_type": "execute_result"
    }
   ],
   "source": [
    "building_database_manager_two_factor_auth = BuildingDatabaseManager(LoginAccountStrategyTwoFactor())\n",
    "building_database_manager_two_factor_auth.authenticate(\"abc12345\", \"12345678\")"
   ]
  },
  {
   "cell_type": "markdown",
   "metadata": {},
   "source": [
    "Without authentication, it's not possible to access the database."
   ]
  },
  {
   "cell_type": "code",
   "execution_count": 11,
   "metadata": {},
   "outputs": [
    {
     "ename": "ValueError",
     "evalue": "Please login to use the BuildingDatabaseManager!",
     "output_type": "error",
     "traceback": [
      "\u001b[0;31m---------------------------------------------------------------------------\u001b[0m",
      "\u001b[0;31mValueError\u001b[0m                                Traceback (most recent call last)",
      "Cell \u001b[0;32mIn [11], line 2\u001b[0m\n\u001b[1;32m      1\u001b[0m building_database_manager_no_auth \u001b[38;5;241m=\u001b[39m BuildingDatabaseManager(LoginAccountStrategy())\n\u001b[0;32m----> 2\u001b[0m \u001b[43mbuilding_database_manager_no_auth\u001b[49m\u001b[38;5;241;43m.\u001b[39;49m\u001b[43mget_all_part_data\u001b[49m\u001b[43m(\u001b[49m\u001b[38;5;124;43m\"\u001b[39;49m\u001b[38;5;124;43mbuilding\u001b[39;49m\u001b[38;5;124;43m\"\u001b[39;49m\u001b[43m)\u001b[49m\n",
      "File \u001b[0;32m~/Desktop/Studium/Masterstudium WS 2022:23/Advanced Software Engineering/Übungen/U03/abgabe/Design-Patterns-Python-Room-Management/BuildingDatabaseManager.py:21\u001b[0m, in \u001b[0;36mBuildingDatabaseManager.check_auth.<locals>.wrapper\u001b[0;34m(self, *args, **kwargs)\u001b[0m\n\u001b[1;32m     19\u001b[0m \u001b[38;5;28;01mdef\u001b[39;00m \u001b[38;5;21mwrapper\u001b[39m(\u001b[38;5;28mself\u001b[39m, \u001b[38;5;241m*\u001b[39margs, \u001b[38;5;241m*\u001b[39m\u001b[38;5;241m*\u001b[39mkwargs):\n\u001b[1;32m     20\u001b[0m     \u001b[38;5;28;01mif\u001b[39;00m \u001b[38;5;129;01mnot\u001b[39;00m(\u001b[38;5;28mself\u001b[39m\u001b[38;5;241m.\u001b[39mis_authorized):\n\u001b[0;32m---> 21\u001b[0m         \u001b[38;5;28;01mraise\u001b[39;00m \u001b[38;5;167;01mValueError\u001b[39;00m(\n\u001b[1;32m     22\u001b[0m             \u001b[38;5;124m\"\u001b[39m\u001b[38;5;124mPlease login to use the BuildingDatabaseManager!\u001b[39m\u001b[38;5;124m\"\u001b[39m)\n\u001b[1;32m     23\u001b[0m     \u001b[38;5;28;01melse\u001b[39;00m:\n\u001b[1;32m     24\u001b[0m         \u001b[38;5;28;01mpass\u001b[39;00m\n",
      "\u001b[0;31mValueError\u001b[0m: Please login to use the BuildingDatabaseManager!"
     ]
    }
   ],
   "source": [
    "building_database_manager_no_auth = BuildingDatabaseManager(LoginAccountStrategy())\n",
    "building_database_manager_no_auth.get_all_part_data(\"building\")\n"
   ]
  }
 ],
 "metadata": {
  "kernelspec": {
   "display_name": "Python 3 (ipykernel)",
   "language": "python",
   "name": "python3"
  },
  "language_info": {
   "codemirror_mode": {
    "name": "ipython",
    "version": 3
   },
   "file_extension": ".py",
   "mimetype": "text/x-python",
   "name": "python",
   "nbconvert_exporter": "python",
   "pygments_lexer": "ipython3",
   "version": "3.9.13"
  },
  "vscode": {
   "interpreter": {
    "hash": "b0fa6594d8f4cbf19f97940f81e996739fb7646882a419484c72d19e05852a7e"
   }
  }
 },
 "nbformat": 4,
 "nbformat_minor": 4
}
