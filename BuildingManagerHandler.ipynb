{
 "cells": [
  {
   "cell_type": "code",
   "execution_count": 1,
   "metadata": {},
   "outputs": [],
   "source": [
    "from BuildingDatabaseManager import BuildingDatabaseManager\n",
    "from AuthenticationStrategy import RZAccountStrategy, RZAccountStrategyTwoFactor"
   ]
  },
  {
   "cell_type": "code",
   "execution_count": 2,
   "metadata": {},
   "outputs": [
    {
     "data": {
      "text/plain": [
       "True"
      ]
     },
     "execution_count": 2,
     "metadata": {},
     "output_type": "execute_result"
    }
   ],
   "source": [
    "buildingDatabaseManager = BuildingDatabaseManager(RZAccountStrategy())\n",
    "buildingDatabaseManager.authenticate(\"abc12345\", \"12345678\")"
   ]
  },
  {
   "cell_type": "markdown",
   "metadata": {},
   "source": [
    "Let's create a building"
   ]
  },
  {
   "cell_type": "code",
   "execution_count": 6,
   "metadata": {},
   "outputs": [],
   "source": [
    "buildingDatabaseManager.create_part(part_type=\"building\", id=\"B-1\", faculty=\"Mathematik\")"
   ]
  },
  {
   "cell_type": "markdown",
   "metadata": {},
   "source": [
    "Show me all parts of one type"
   ]
  },
  {
   "cell_type": "code",
   "execution_count": 7,
   "metadata": {},
   "outputs": [
    {
     "data": {
      "text/plain": [
       "[{'id': 'B-1', 'problems': [], 'faculty': 'Mathematik'},\n",
       " {'id': 'B-2', 'problems': [], 'faculty': 'Mathematik'}]"
      ]
     },
     "execution_count": 7,
     "metadata": {},
     "output_type": "execute_result"
    }
   ],
   "source": [
    "buildingDatabaseManager.get_all_part_data(\"building\", as_json=True)"
   ]
  },
  {
   "cell_type": "markdown",
   "metadata": {},
   "source": [
    "Or a Building Part (see all possible parts in  `Parts.py`)"
   ]
  },
  {
   "cell_type": "code",
   "execution_count": 5,
   "metadata": {},
   "outputs": [],
   "source": [
    "buildingDatabaseManager.create_part(part_type=\"building_part\", id=\"BP-1\", building_id=\"B-1\", faculty=\"Mathematik\")"
   ]
  },
  {
   "cell_type": "markdown",
   "metadata": {},
   "source": [
    "Let's report a problem..."
   ]
  },
  {
   "cell_type": "code",
   "execution_count": 6,
   "metadata": {},
   "outputs": [],
   "source": [
    "problem_id = buildingDatabaseManager.report_problem(part_type=\"building\", id=\"B-1\", problem_text=\"Tür defekt\", rz_username=\"hen58277\")[\"problem_id\"]"
   ]
  },
  {
   "cell_type": "code",
   "execution_count": 7,
   "metadata": {},
   "outputs": [
    {
     "data": {
      "text/plain": [
       "{'problem_id': 'd3ff9fd7-9550-4aee-bcde-826717b2a7fd',\n",
       " 'problem_text': 'Tür defekt',\n",
       " 'reporting_date': '07.12.2022 14:36:23',\n",
       " 'last_change': '07.12.2022 14:36:23',\n",
       " 'rz_username': 'hen58277',\n",
       " 'problem_state': 'gemeldet'}"
      ]
     },
     "execution_count": 7,
     "metadata": {},
     "output_type": "execute_result"
    }
   ],
   "source": [
    "buildingDatabaseManager.get_problem(part_type=\"building\", id=\"B-1\", problem_id=problem_id)"
   ]
  },
  {
   "cell_type": "code",
   "execution_count": 8,
   "metadata": {},
   "outputs": [
    {
     "data": {
      "text/plain": [
       "{'problem_id': 'd3ff9fd7-9550-4aee-bcde-826717b2a7fd',\n",
       " 'problem_text': 'Tür defekt',\n",
       " 'reporting_date': '07.12.2022 14:36:23',\n",
       " 'last_change': '07.12.2022 14:36:24',\n",
       " 'rz_username': 'hen58277',\n",
       " 'problem_state': 'in Bearbeitung'}"
      ]
     },
     "execution_count": 8,
     "metadata": {},
     "output_type": "execute_result"
    }
   ],
   "source": [
    "buildingDatabaseManager.set_problem_state(part_type=\"building\", id=\"B-1\", problem_id=problem_id, new_state=\"in Bearbeitung\")\n"
   ]
  },
  {
   "cell_type": "code",
   "execution_count": 9,
   "metadata": {},
   "outputs": [
    {
     "data": {
      "text/plain": [
       "[{'problem_id': 'd3ff9fd7-9550-4aee-bcde-826717b2a7fd',\n",
       "  'problem_text': 'Tür defekt',\n",
       "  'reporting_date': '07.12.2022 14:36:23',\n",
       "  'last_change': '07.12.2022 14:36:24',\n",
       "  'rz_username': 'hen58277',\n",
       "  'problem_state': 'in Bearbeitung'},\n",
       " {'problem_id': 'ac5d7a3f-6d37-4b5a-8794-858ce7ed5de0',\n",
       "  'problem_text': 'Drucker defekt',\n",
       "  'reporting_date': '07.12.2022 14:36:24',\n",
       "  'last_change': '07.12.2022 14:36:24',\n",
       "  'rz_username': 'hen58277',\n",
       "  'problem_state': 'gemeldet'}]"
      ]
     },
     "execution_count": 9,
     "metadata": {},
     "output_type": "execute_result"
    }
   ],
   "source": [
    "buildingDatabaseManager.report_problem(part_type=\"building\", id=\"B-1\", problem_text=\"Drucker defekt\", rz_username=\"hen58277\") # report another problem\n",
    "buildingDatabaseManager.get_all_problems(part_type=\"building\", id=\"B-1\") # view all problems now"
   ]
  },
  {
   "cell_type": "markdown",
   "metadata": {},
   "source": [
    "You can also use another Authentication Method (Strategy Pattern)"
   ]
  },
  {
   "cell_type": "code",
   "execution_count": 10,
   "metadata": {},
   "outputs": [
    {
     "name": "stdout",
     "output_type": "stream",
     "text": [
      "Sie haben sich erfolgreich registriert.\n"
     ]
    },
    {
     "data": {
      "text/plain": [
       "True"
      ]
     },
     "execution_count": 10,
     "metadata": {},
     "output_type": "execute_result"
    }
   ],
   "source": [
    "buildingDatabaseManagerTwoFactorAuth = BuildingDatabaseManager(RZAccountStrategyTwoFactor())\n",
    "buildingDatabaseManagerTwoFactorAuth.authenticate(\"abc12345\", \"12345678\")"
   ]
  },
  {
   "cell_type": "markdown",
   "metadata": {},
   "source": [
    "Without authentication, it's not possible to access the database."
   ]
  },
  {
   "cell_type": "code",
   "execution_count": 9,
   "metadata": {},
   "outputs": [
    {
     "data": {
      "text/plain": [
       "[]"
      ]
     },
     "execution_count": 9,
     "metadata": {},
     "output_type": "execute_result"
    }
   ],
   "source": [
    "buildingDatabaseManagerNoAuth = BuildingDatabaseManager(RZAccountStrategy())\n",
    "buildingDatabaseManagerNoAuth.get_all_part_data(\"building\")\n"
   ]
  }
 ],
 "metadata": {
  "kernelspec": {
   "display_name": "Python 3 (ipykernel)",
   "language": "python",
   "name": "python3"
  },
  "language_info": {
   "codemirror_mode": {
    "name": "ipython",
    "version": 3
   },
   "file_extension": ".py",
   "mimetype": "text/x-python",
   "name": "python",
   "nbconvert_exporter": "python",
   "pygments_lexer": "ipython3",
   "version": "3.10.6"
  },
  "vscode": {
   "interpreter": {
    "hash": "b0fa6594d8f4cbf19f97940f81e996739fb7646882a419484c72d19e05852a7e"
   }
  }
 },
 "nbformat": 4,
 "nbformat_minor": 4
}
