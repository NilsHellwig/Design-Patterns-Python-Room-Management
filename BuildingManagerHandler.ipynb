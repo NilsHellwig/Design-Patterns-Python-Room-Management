{
 "cells": [
  {
   "cell_type": "code",
   "execution_count": 1,
   "metadata": {},
   "outputs": [],
   "source": [
    "from BuildingDatabaseManager import BuildingDatabaseManager\n",
    "\n",
    "buildingDatabaseManager = BuildingDatabaseManager()"
   ]
  },
  {
   "cell_type": "markdown",
   "metadata": {},
   "source": [
    "Let's create a building"
   ]
  },
  {
   "cell_type": "code",
   "execution_count": 2,
   "metadata": {},
   "outputs": [],
   "source": [
    "buildingDatabaseManager.create_part(part_type=\"building\", id=\"B-1\", faculty=\"Mathematik\")"
   ]
  },
  {
   "cell_type": "markdown",
   "metadata": {},
   "source": [
    "Or a Building Part (see all possible parts in  `Parts.py`)"
   ]
  },
  {
   "cell_type": "code",
   "execution_count": 3,
   "metadata": {},
   "outputs": [],
   "source": [
    "buildingDatabaseManager.create_part(part_type=\"building_part\", id=\"BP-1\", building_id=\"B-1\", faculty=\"Mathematik\")"
   ]
  },
  {
   "cell_type": "markdown",
   "metadata": {},
   "source": [
    "Let's report a problem..."
   ]
  },
  {
   "cell_type": "code",
   "execution_count": 3,
   "metadata": {},
   "outputs": [
    {
     "name": "stdout",
     "output_type": "stream",
     "text": [
      "enter\n"
     ]
    }
   ],
   "source": [
    "problem_id = buildingDatabaseManager.report_problem(part_type=\"building\", id=\"DE-3\", problem_text=\"Tür kaputt\", rz_username=\"hen58277\")[\"problem_id\"]"
   ]
  },
  {
   "cell_type": "code",
   "execution_count": 4,
   "metadata": {},
   "outputs": [
    {
     "data": {
      "text/plain": [
       "{'problem_id': '9c9560c8-b938-40f2-8164-6c32da2e432d',\n",
       " 'problem_text': 'Tür kaputt',\n",
       " 'reporting_date': '07.12.2022 10:27:56',\n",
       " 'last_change': '07.12.2022 10:27:56',\n",
       " 'rz_username': 'hen58277',\n",
       " 'problem_state': 'gemeldet'}"
      ]
     },
     "execution_count": 4,
     "metadata": {},
     "output_type": "execute_result"
    }
   ],
   "source": [
    "buildingDatabaseManager.get_problem(part_type=\"building\", id=\"DE-3\", problem_id=problem_id)"
   ]
  },
  {
   "cell_type": "code",
   "execution_count": 5,
   "metadata": {},
   "outputs": [
    {
     "data": {
      "text/plain": [
       "{'problem_id': '9c9560c8-b938-40f2-8164-6c32da2e432d',\n",
       " 'problem_text': 'Tür kaputt',\n",
       " 'reporting_date': '07.12.2022 10:27:56',\n",
       " 'last_change': '07.12.2022 10:27:56',\n",
       " 'rz_username': 'hen58277',\n",
       " 'problem_state': 'in Bearbeitung'}"
      ]
     },
     "execution_count": 5,
     "metadata": {},
     "output_type": "execute_result"
    }
   ],
   "source": [
    "buildingDatabaseManager.set_problem_state(part_type=\"building\", id=\"DE-3\", problem_id=problem_id, new_state=\"in Bearbeitung\")\n"
   ]
  },
  {
   "cell_type": "code",
   "execution_count": 10,
   "metadata": {},
   "outputs": [
    {
     "name": "stdout",
     "output_type": "stream",
     "text": [
      "enter\n"
     ]
    },
    {
     "data": {
      "text/plain": [
       "[{'problem_id': '9c9560c8-b938-40f2-8164-6c32da2e432d',\n",
       "  'problem_text': 'Tür kaputt',\n",
       "  'reporting_date': '07.12.2022 10:27:56',\n",
       "  'last_change': '07.12.2022 10:27:56',\n",
       "  'rz_username': 'hen58277',\n",
       "  'problem_state': 'in Bearbeitung'},\n",
       " {'problem_id': 'c334e28f-b1d7-4ee2-bf5a-d2c8d6cac8de',\n",
       "  'problem_text': 'Drucker kaputt',\n",
       "  'reporting_date': '07.12.2022 10:27:56',\n",
       "  'last_change': '07.12.2022 10:27:56',\n",
       "  'rz_username': 'hen58277',\n",
       "  'problem_state': 'gemeldet'},\n",
       " {'problem_id': '07c904ed-2d13-49d7-8d68-ad01df5f8883',\n",
       "  'problem_text': 'Drucker kaputt',\n",
       "  'reporting_date': '07.12.2022 10:28:06',\n",
       "  'last_change': '07.12.2022 10:28:06',\n",
       "  'rz_username': 'hen58277',\n",
       "  'problem_state': 'gemeldet'},\n",
       " {'problem_id': '6cf8ab20-710c-4175-93c9-dfa5a3740e0f',\n",
       "  'problem_text': 'Drucker kaputt',\n",
       "  'reporting_date': '07.12.2022 10:28:08',\n",
       "  'last_change': '07.12.2022 10:28:08',\n",
       "  'rz_username': 'hen58277',\n",
       "  'problem_state': 'gemeldet'},\n",
       " {'problem_id': '58634a9e-2ed2-4538-9fa5-b511de0ae983',\n",
       "  'problem_text': 'Drucker kaputt',\n",
       "  'reporting_date': '07.12.2022 10:28:13',\n",
       "  'last_change': '07.12.2022 10:28:13',\n",
       "  'rz_username': 'hen58277',\n",
       "  'problem_state': 'gemeldet'},\n",
       " {'problem_id': 'a28573e5-cafc-4042-8fbb-96b464599848',\n",
       "  'problem_text': 'Drucker kaputt',\n",
       "  'reporting_date': '07.12.2022 10:28:47',\n",
       "  'last_change': '07.12.2022 10:28:47',\n",
       "  'rz_username': 'hen58277',\n",
       "  'problem_state': 'gemeldet'}]"
      ]
     },
     "execution_count": 10,
     "metadata": {},
     "output_type": "execute_result"
    }
   ],
   "source": [
    "buildingDatabaseManager.report_problem(part_type=\"building\", id=\"DE-3\", problem_text=\"Drucker kaputt\", rz_username=\"hen58277\") # report another problem\n",
    "buildingDatabaseManager.get_all_problems(part_type=\"building\", id=\"DE-3\") # view all problems now"
   ]
  },
  {
   "cell_type": "code",
   "execution_count": null,
   "metadata": {},
   "outputs": [],
   "source": []
  }
 ],
 "metadata": {
  "kernelspec": {
   "display_name": "Python 3.9.13 64-bit",
   "language": "python",
   "name": "python3"
  },
  "language_info": {
   "codemirror_mode": {
    "name": "ipython",
    "version": 3
   },
   "file_extension": ".py",
   "mimetype": "text/x-python",
   "name": "python",
   "nbconvert_exporter": "python",
   "pygments_lexer": "ipython3",
   "version": "3.9.13"
  },
  "orig_nbformat": 4,
  "vscode": {
   "interpreter": {
    "hash": "b0fa6594d8f4cbf19f97940f81e996739fb7646882a419484c72d19e05852a7e"
   }
  }
 },
 "nbformat": 4,
 "nbformat_minor": 2
}
